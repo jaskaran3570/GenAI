{
  "cells": [
    {
      "cell_type": "markdown",
      "metadata": {
        "id": "view-in-github",
        "colab_type": "text"
      },
      "source": [
        "<a href=\"https://colab.research.google.com/github/jaskaran3570/GenAI/blob/main/GenAI_image_video_animation_generation.ipynb\" target=\"_parent\"><img src=\"https://colab.research.google.com/assets/colab-badge.svg\" alt=\"Open In Colab\"/></a>"
      ]
    },
    {
      "cell_type": "markdown",
      "source": [
        "# Title of the Project:\n",
        "##AI-Powered Image Synthesis and Animation using Replicate\n",
        "\n",
        "## Brief Description\n",
        "This project focuses on leveraging the Replicate platform to generate realistic images and animations using advanced AI models. Through the integration of Replicate's capabilities, we explore the synthesis of images based on specific prompts and the creation of dynamic animations with enhanced realism. The project delves into the potential applications of AI-generated content in various domains.\n",
        "\n",
        "---\n",
        "\n",
        "# Group Members' Information\n",
        "\n",
        "## Group Members\n",
        "1. **Member 1:** Jaskaran Singh, ID: 4343570\n",
        "2. **Member 2:** Ravinder singh, ID: 4348518\n",
        "3. **Member 3:** Vikramjeet Singh, ID: 4349988\n",
        "\n",
        "\n",
        "---\n",
        "\n",
        "# Detailed Project Description\n",
        "\n",
        "## Project Overview\n",
        "In this project, we explore the capabilities of Replicate for AI-driven image synthesis and animation generation. The process involves utilizing pre-trained models for both static image creation and dynamic animations. The generated content is then analyzed for its realism and applicability in diverse scenarios.\n",
        "\n",
        "### Objectives and Expected Outcomes\n",
        "- **Image Synthesis:** Utilize Replicate to generate high-quality images based on user prompts.\n",
        "- **Animation Generation:** Create dynamic animations using Replicate's animation models.\n",
        "- **Analysis:** Evaluate the realism and diversity of the generated content.\n",
        "\n",
        "---\n",
        "\n",
        "# Modification/New Addition Specification\n",
        "\n",
        "## Modifications and Additions\n",
        "We introduced custom prompts for image and animation generation, allowing for more specific content creation. Additionally, we implemented a GIF ping-pong effect in animations for enhanced visual appeal.\n",
        "\n",
        "### Impact\n",
        "- **Customization:** Improved user control over generated content.\n",
        "- **Visual Appeal:** The GIF ping-pong effect enhances the animation's aesthetics.\n",
        "\n",
        "---\n",
        "\n",
        "# Criteria-Specific\n",
        "\n",
        "## Criteria-Specific Elements\n",
        "- **AI Image Synthesis:** Assessing the realism and diversity of AI-generated images.\n",
        "- **Animation Quality:** Evaluating the fluidity and visual appeal of Replicate-generated animations.\n",
        "\n",
        "\n",
        "---\n",
        "\n",
        "# Reference\n",
        "\n",
        "1. Replicate Documentation: (n.d.). Replicate. https://replicate.com/docs/get-started/python\n",
        "2. Google Colaboratory. (n.d.). https://colab.research.google.com/drive/1-7QeW2EQPggRwT0ddmwqwT5veM09xtQW?usp=sharing\n",
        "\n",
        "#Video Presentation\n",
        "* .\n"
      ],
      "metadata": {
        "id": "M49lstKso4R4"
      }
    },
    {
      "cell_type": "code",
      "execution_count": null,
      "metadata": {
        "colab": {
          "base_uri": "https://localhost:8080/"
        },
        "id": "K-f4rzIDbk8n",
        "outputId": "4bfdde7d-e752-4d27-ce93-28cba1c9eb04"
      },
      "outputs": [
        {
          "name": "stdout",
          "output_type": "stream",
          "text": [
            "Collecting replicate\n",
            "  Downloading replicate-0.13.0-py3-none-any.whl (24 kB)\n",
            "Requirement already satisfied: packaging in /usr/local/lib/python3.10/dist-packages (from replicate) (23.1)\n",
            "Requirement already satisfied: pydantic>1 in /usr/local/lib/python3.10/dist-packages (from replicate) (1.10.12)\n",
            "Requirement already satisfied: requests>2 in /usr/local/lib/python3.10/dist-packages (from replicate) (2.31.0)\n",
            "Requirement already satisfied: typing-extensions>=4.2.0 in /usr/local/lib/python3.10/dist-packages (from pydantic>1->replicate) (4.5.0)\n",
            "Requirement already satisfied: charset-normalizer<4,>=2 in /usr/local/lib/python3.10/dist-packages (from requests>2->replicate) (3.2.0)\n",
            "Requirement already satisfied: idna<4,>=2.5 in /usr/local/lib/python3.10/dist-packages (from requests>2->replicate) (3.4)\n",
            "Requirement already satisfied: urllib3<3,>=1.21.1 in /usr/local/lib/python3.10/dist-packages (from requests>2->replicate) (2.0.4)\n",
            "Requirement already satisfied: certifi>=2017.4.17 in /usr/local/lib/python3.10/dist-packages (from requests>2->replicate) (2023.7.22)\n",
            "Installing collected packages: replicate\n",
            "Successfully installed replicate-0.13.0\n"
          ]
        }
      ],
      "source": [
        "# @title Install Replicate\n",
        "!pip install replicate"
      ]
    },
    {
      "cell_type": "markdown",
      "source": [
        "##Explanation: This section installs the replicate library, which is used for running models and generating content through the Replicate platform."
      ],
      "metadata": {
        "id": "03xL0Alon2h6"
      }
    },
    {
      "cell_type": "code",
      "execution_count": 13,
      "metadata": {
        "id": "cFmhr3PSf4G2"
      },
      "outputs": [],
      "source": [
        "\n",
        "API = \"r8_OSCcs1kxwzsh1ByWf20mesmgk3x7XXS3BgRYA\" # @param {type:\"string\"}\n",
        "import os\n",
        "\n",
        "os.environ[\"REPLICATE_API_TOKEN\"] = API #find it here: https://replicate.com/signin?next=/account/api-tokens\n"
      ]
    },
    {
      "cell_type": "markdown",
      "source": [
        "##Explanation: Here, you set up your Replicate API token to authenticate and interact with the Replicate platform. The token is retrieved from your Replicate account."
      ],
      "metadata": {
        "id": "sFTSpliVoGgA"
      }
    },
    {
      "cell_type": "code",
      "execution_count": 21,
      "metadata": {
        "colab": {
          "base_uri": "https://localhost:8080/"
        },
        "id": "0zz83wA6cqSF",
        "outputId": "95d59cc3-42f8-4669-85ee-4e21bfc4b80b"
      },
      "outputs": [
        {
          "output_type": "execute_result",
          "data": {
            "text/plain": [
              "['https://replicate.delivery/pbxt/OrHI0KkXo07WENPXe5A6bl2dqevITJqWzSD8D9RU78iwqNejA/out-0.png']"
            ]
          },
          "metadata": {},
          "execution_count": 21
        }
      ],
      "source": [
        "# @title Generate Impage\n",
        "prompt = \"wearing a VR headset\" # @param {type:\"string\"}\n",
        "import replicate\n",
        "\n",
        "output = replicate.run(\n",
        "  \"stability-ai/stable-diffusion:27b93a2413e7f36cd83da926f3656280b2931564ff050bf9575f1fdf9bcd7478\",\n",
        "  input={\"prompt\":prompt}\n",
        ")\n",
        "\n",
        "output"
      ]
    },
    {
      "cell_type": "markdown",
      "source": [
        "##Explanation: This section generates an image using a pre-trained model. The prompt \"wearing a VR headset\" is used as input, and the resulting image is displayed in the notebook."
      ],
      "metadata": {
        "id": "99b2KkrToOPY"
      }
    },
    {
      "cell_type": "code",
      "execution_count": 22,
      "metadata": {
        "colab": {
          "base_uri": "https://localhost:8080/",
          "height": 533
        },
        "id": "hwXEISnemCLj",
        "outputId": "151522b4-fb30-453b-cb26-d42494eb4d59"
      },
      "outputs": [
        {
          "output_type": "execute_result",
          "data": {
            "text/html": [
              "<img src=\"https://replicate.delivery/pbxt/OrHI0KkXo07WENPXe5A6bl2dqevITJqWzSD8D9RU78iwqNejA/out-0.png\"/>"
            ],
            "text/plain": [
              "<IPython.core.display.Image object>"
            ]
          },
          "metadata": {},
          "execution_count": 22
        }
      ],
      "source": [
        "# @title Show image\n",
        "from IPython.display import Image\n",
        "output_image = output\n",
        "Image(url=output_image[0])"
      ]
    },
    {
      "cell_type": "markdown",
      "source": [
        "## Explanation: The generated image is displayed using the IPython Image class."
      ],
      "metadata": {
        "id": "0HNTesaHoSYo"
      }
    },
    {
      "cell_type": "code",
      "execution_count": 24,
      "metadata": {
        "colab": {
          "base_uri": "https://localhost:8080/"
        },
        "id": "Misa5E4QiWNZ",
        "outputId": "055d7793-9370-47ec-bdf3-124c4a9a70da"
      },
      "outputs": [
        {
          "output_type": "execute_result",
          "data": {
            "text/plain": [
              "<generator object Prediction.output_iterator at 0x780b69bd5460>"
            ]
          },
          "metadata": {},
          "execution_count": 24
        }
      ],
      "source": [
        "# @title Video/gif/animation/Generation\n",
        "import replicate\n",
        "\n",
        "output = replicate.run(\n",
        "    \"andreasjansson/stable-diffusion-animation:ca1f5e306e5721e19c473e0d094e6603f0456fe759c10715fcd6c1b79242d4a5\",\n",
        "    input={\n",
        "        \"prompt_start\": \"wearing a VR headset\",\n",
        "        \"prompt_end\": \"Removing a VR headset\",\n",
        "        \"output_format\": \"gif\",\n",
        "        \"gif_ping_pong\": True\n",
        "    }\n",
        ")\n",
        "\n",
        "output\n"
      ]
    },
    {
      "cell_type": "markdown",
      "source": [
        "## Explanation: This section generates a video or GIF animation using a different model. It takes prompts for the start and end of the animation, specifying the format as GIF with ping-pong effect."
      ],
      "metadata": {
        "id": "tlvYwhh7oVq_"
      }
    },
    {
      "cell_type": "code",
      "execution_count": 25,
      "metadata": {
        "colab": {
          "base_uri": "https://localhost:8080/"
        },
        "id": "BB0LZJTyjA7Z",
        "outputId": "83daaad3-d71e-4df0-9d89-37f3ebcce9d2"
      },
      "outputs": [
        {
          "output_type": "stream",
          "name": "stdout",
          "text": [
            "https://replicate.delivery/pbxt/edNdqXDL8SW5aywLkfdXvShydULzJ2seLVtnywi1HgKpcb8jA/video.gif\n"
          ]
        }
      ],
      "source": [
        "# @title generate video\n",
        "for item in output:\n",
        "     #https://replicate.com/andreasjansson/stable-diffusion-animation/versions/ca1f5e306e5721e19c473e0d094e6603f0456fe759c10715fcd6c1b79242d4a5/api#output-schema\n",
        "    print(item)"
      ]
    },
    {
      "cell_type": "markdown",
      "source": [
        "## Explanation: The generated video link is printed, showing the location where the video is stored."
      ],
      "metadata": {
        "id": "kNNm0SY7oY1P"
      }
    },
    {
      "cell_type": "code",
      "execution_count": 26,
      "metadata": {
        "id": "fuPgsixhkxM4",
        "cellView": "form"
      },
      "outputs": [],
      "source": [
        "# @title get the video on colab\n",
        "gif_url= item[0:len(item)]"
      ]
    },
    {
      "cell_type": "markdown",
      "source": [
        "## Explanation: The URL of the generated video is extracted for further usage in the notebook."
      ],
      "metadata": {
        "id": "w6fZwjtKoggI"
      }
    },
    {
      "cell_type": "code",
      "execution_count": 27,
      "metadata": {
        "colab": {
          "base_uri": "https://localhost:8080/",
          "height": 533
        },
        "id": "6VPPvsE3km93",
        "outputId": "3576daa7-ef65-4fa0-d095-bdb51d36ac34",
        "cellView": "form"
      },
      "outputs": [
        {
          "output_type": "display_data",
          "data": {
            "text/html": [
              "<img src=\"https://replicate.delivery/pbxt/edNdqXDL8SW5aywLkfdXvShydULzJ2seLVtnywi1HgKpcb8jA/video.gif\"/>"
            ],
            "text/plain": [
              "<IPython.core.display.Image object>"
            ]
          },
          "metadata": {}
        }
      ],
      "source": [
        "# @title Show the video\n",
        "import requests\n",
        "from IPython.display import display, Image\n",
        "from PIL import Image as PILImage\n",
        "from io import BytesIO\n",
        "response = requests.get(gif_url)\n",
        "if response.status_code == 200:\n",
        "    # Display the GIF in the notebook\n",
        "    display(Image(url=gif_url))\n",
        "\n",
        "    # Save the GIF in the Colab environment\n",
        "    with open(\"gif_output.gif\", \"wb\") as f:\n",
        "        f.write(response.content)\n",
        "\n",
        "    # Show a saved GIF using PIL\n",
        "    saved_gif = PILImage.open(\"gif_output.gif\")\n",
        "    saved_gif.show()\n",
        "else:\n",
        "    print(\"Failed to fetch GIF\")\n"
      ]
    },
    {
      "cell_type": "markdown",
      "source": [
        "## Explanation: This section fetches the generated video, displays it in the notebook, saves it locally, and opens the saved GIF using the PIL library. If fetching the GIF fails, a message is printed."
      ],
      "metadata": {
        "id": "YP4kX1nNoidS"
      }
    }
  ],
  "metadata": {
    "colab": {
      "provenance": [],
      "include_colab_link": true
    },
    "kernelspec": {
      "display_name": "Python 3",
      "name": "python3"
    },
    "language_info": {
      "name": "python"
    }
  },
  "nbformat": 4,
  "nbformat_minor": 0
}